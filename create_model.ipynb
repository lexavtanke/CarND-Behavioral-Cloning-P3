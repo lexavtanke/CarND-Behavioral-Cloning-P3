{
 "cells": [
  {
   "cell_type": "code",
   "execution_count": 1,
   "metadata": {},
   "outputs": [],
   "source": [
    "import csv\n",
    "import os\n",
    "from imageio import imread\n",
    "import numpy as np"
   ]
  },
  {
   "cell_type": "code",
   "execution_count": 2,
   "metadata": {},
   "outputs": [
    {
     "name": "stdout",
     "output_type": "stream",
     "text": [
      "There are files ['snack2.csv', 'driving_log.csv', 'center_driving_log.csv', 'driving_log_t2.csv', 'snake.csv', 'big2track.csv'] in data_path\n"
     ]
    }
   ],
   "source": [
    "from tensorflow.keras.preprocessing.image import ImageDataGenerator\n",
    "import pandas as pd \n",
    "\n",
    "df = pd.DataFrame(columns=['image', 'measure'])\n",
    "df.head()\n",
    "\n",
    "data_path = '../drivingData'\n",
    "csv_fname = 'driving_log.csv'\n",
    "data_files = [] \n",
    "\n",
    "for file in os.listdir(data_path):\n",
    "    if file.endswith(\".csv\"):\n",
    "        data_files.append(file)\n",
    "print(f'There are files {data_files} in data_path')"
   ]
  },
  {
   "cell_type": "code",
   "execution_count": 3,
   "metadata": {},
   "outputs": [
    {
     "name": "stdout",
     "output_type": "stream",
     "text": [
      "<class 'pandas.core.frame.DataFrame'>\n",
      "RangeIndex: 62994 entries, 0 to 62993\n",
      "Data columns (total 2 columns):\n",
      "image      62994 non-null object\n",
      "measure    62994 non-null float64\n",
      "dtypes: float64(1), object(1)\n",
      "memory usage: 984.4+ KB\n"
     ]
    }
   ],
   "source": [
    "# all cameras      \n",
    "for file in data_files:\n",
    "    with open(os.path.join(data_path, file)) as csvf:\n",
    "        next(csvf)\n",
    "        reader = csv.reader(csvf)\n",
    "        for line in reader:\n",
    "            for i in range(3):\n",
    "                source_path = line[i]\n",
    "#                     source_path = line[0]\n",
    "                file_path = source_path.split('/')[-1]\n",
    "        #         print(file_path)\n",
    "\n",
    "        #         print(measurement)\n",
    "        #         measurements.append(measurement)\n",
    "                if i == 0:\n",
    "                    measurement = float(line[3])\n",
    "                elif i == 1:\n",
    "                    measurement = float(line[3]) + 0.1\n",
    "                elif i == 2:\n",
    "                    measurement = float(line[3]) - 0.1\n",
    "                nano_df = pd.DataFrame([[file_path, measurement]], columns=['image', 'measure'])\n",
    "                df = df.append(nano_df, ignore_index=True)\n",
    "\n",
    "df.info()"
   ]
  },
  {
   "cell_type": "code",
   "execution_count": 28,
   "metadata": {},
   "outputs": [
    {
     "data": {
      "text/html": [
       "<div>\n",
       "<style scoped>\n",
       "    .dataframe tbody tr th:only-of-type {\n",
       "        vertical-align: middle;\n",
       "    }\n",
       "\n",
       "    .dataframe tbody tr th {\n",
       "        vertical-align: top;\n",
       "    }\n",
       "\n",
       "    .dataframe thead th {\n",
       "        text-align: right;\n",
       "    }\n",
       "</style>\n",
       "<table border=\"1\" class=\"dataframe\">\n",
       "  <thead>\n",
       "    <tr style=\"text-align: right;\">\n",
       "      <th></th>\n",
       "      <th>image</th>\n",
       "      <th>measure</th>\n",
       "    </tr>\n",
       "  </thead>\n",
       "  <tbody>\n",
       "    <tr>\n",
       "      <th>0</th>\n",
       "      <td>center_2016_12_01_13_30_48_287.jpg</td>\n",
       "      <td>0.0</td>\n",
       "    </tr>\n",
       "    <tr>\n",
       "      <th>1</th>\n",
       "      <td>left_2016_12_01_13_30_48_287.jpg</td>\n",
       "      <td>0.1</td>\n",
       "    </tr>\n",
       "    <tr>\n",
       "      <th>2</th>\n",
       "      <td>right_2016_12_01_13_30_48_287.jpg</td>\n",
       "      <td>-0.1</td>\n",
       "    </tr>\n",
       "    <tr>\n",
       "      <th>3</th>\n",
       "      <td>center_2016_12_01_13_30_48_404.jpg</td>\n",
       "      <td>0.0</td>\n",
       "    </tr>\n",
       "    <tr>\n",
       "      <th>4</th>\n",
       "      <td>left_2016_12_01_13_30_48_404.jpg</td>\n",
       "      <td>0.1</td>\n",
       "    </tr>\n",
       "  </tbody>\n",
       "</table>\n",
       "</div>"
      ],
      "text/plain": [
       "                                image  measure\n",
       "0  center_2016_12_01_13_30_48_287.jpg      0.0\n",
       "1    left_2016_12_01_13_30_48_287.jpg      0.1\n",
       "2   right_2016_12_01_13_30_48_287.jpg     -0.1\n",
       "3  center_2016_12_01_13_30_48_404.jpg      0.0\n",
       "4    left_2016_12_01_13_30_48_404.jpg      0.1"
      ]
     },
     "execution_count": 28,
     "metadata": {},
     "output_type": "execute_result"
    }
   ],
   "source": [
    "df.head()"
   ]
  },
  {
   "cell_type": "code",
   "execution_count": 5,
   "metadata": {
    "scrolled": true
   },
   "outputs": [
    {
     "data": {
      "image/png": "[encoded data removed]",
      "text/plain": [
       "<Figure size 432x288 with 1 Axes>"
      ]
     },
     "metadata": {
      "needs_background": "light"
     },
     "output_type": "display_data"
    }
   ],
   "source": [
    "ax = df.plot.hist(bins=30, alpha=0.5)"
   ]
  },
  {
   "cell_type": "code",
   "execution_count": 3,
   "metadata": {},
   "outputs": [
    {
     "name": "stdout",
     "output_type": "stream",
     "text": [
      "<class 'pandas.core.frame.DataFrame'>\n",
      "RangeIndex: 21004 entries, 0 to 21003\n",
      "Data columns (total 2 columns):\n",
      "image      21004 non-null object\n",
      "measure    21004 non-null float64\n",
      "dtypes: float64(1), object(1)\n",
      "memory usage: 328.3+ KB\n"
     ]
    }
   ],
   "source": [
    "# only front camera\n",
    "from tensorflow.keras.preprocessing.image import ImageDataGenerator\n",
    "import pandas as pd \n",
    "\n",
    "for file in data_files:\n",
    "    with open(os.path.join(data_path, file)) as csvf:\n",
    "        reader = csv.reader(csvf)\n",
    "        for line in reader:\n",
    "                source_path = line[0]\n",
    "#                     source_path = line[0]\n",
    "                file_path = source_path.split('/')[-1]\n",
    "        #         print(file_path)\n",
    "                measurement = float(line[3])\n",
    "                nano_df = pd.DataFrame([[file_path, measurement]], columns=['image', 'measure'])\n",
    "                df = df.append(nano_df, ignore_index=True)\n",
    "\n",
    "df.info()"
   ]
  },
  {
   "cell_type": "code",
   "execution_count": 5,
   "metadata": {
    "scrolled": false
   },
   "outputs": [
    {
     "data": {
      "image/png": "[encoded data removed]",
      "text/plain": [
       "<Figure size 432x288 with 1 Axes>"
      ]
     },
     "metadata": {
      "needs_background": "light"
     },
     "output_type": "display_data"
    }
   ],
   "source": [
    "ax = df.plot.hist(bins=30, alpha=0.5)"
   ]
  },
  {
   "cell_type": "code",
   "execution_count": 5,
   "metadata": {
    "scrolled": true
   },
   "outputs": [
    {
     "data": {
      "image/png": "[encoded data removed]",
      "text/plain": [
       "<Figure size 432x288 with 1 Axes>"
      ]
     },
     "metadata": {
      "needs_background": "light"
     },
     "output_type": "display_data"
    }
   ],
   "source": [
    "ax = df.plot.hist(bins=30, alpha=0.5)"
   ]
  },
  {
   "cell_type": "code",
   "execution_count": 4,
   "metadata": {
    "scrolled": false
   },
   "outputs": [],
   "source": [
    "norm_df= []\n",
    "norm_df = df.drop(df[(df['measure'] < 0.02) & (df['measure'] > -0.02)].index)\n",
    "ax1 = norm_df.plot.hist(bins=30, alpha=0.5)"
   ]
  },
  {
   "cell_type": "code",
   "execution_count": 8,
   "metadata": {},
   "outputs": [
    {
     "data": {
      "image/png": "[encoded data removed]",
      "text/plain": [
       "<Figure size 432x288 with 1 Axes>"
      ]
     },
     "metadata": {
      "needs_background": "light"
     },
     "output_type": "display_data"
    }
   ],
   "source": [
    "norm_df= []\n",
    "norm_df = df.drop(df[(df['measure'] < 0.02) & (df['measure'] > -0.01)].index)\n",
    "norm_df = norm_df.drop(norm_df[(norm_df['measure'] < -0.099) & (norm_df['measure'] > -0.12)].index)\n",
    "norm_df = norm_df.drop(norm_df[(norm_df['measure'] < 0.12) & (norm_df['measure'] > 0.095)].index)\n",
    "ax1 = norm_df.plot.hist(bins=30, alpha=0.5)"
   ]
  },
  {
   "cell_type": "code",
   "execution_count": 9,
   "metadata": {},
   "outputs": [],
   "source": [
    "import tensorflow as tf\n",
    "from tensorflow.keras.models import Sequential\n",
    "from tensorflow.keras import layers\n",
    "from tensorflow.keras.layers import Flatten, Dense, Lambda, Cropping2D"
   ]
  },
  {
   "cell_type": "code",
   "execution_count": 22,
   "metadata": {},
   "outputs": [],
   "source": [
    "# from tensorflow.keras.backend import resize_images\n",
    "\n",
    "\n",
    "# Nvidia net\n",
    "model_name = \"nvidia_net\" \n",
    "model = Sequential()\n",
    "input_shape = (80, 160, 3)\n",
    "model.add(Cropping2D(cropping=((25,10), (0,0)), input_shape=input_shape))\n",
    "# model.add(Lambda(lambda img: resize_images(img, 2, 2, data_format=\"channels_first\")))\n",
    "# model.add(Lambda(lambda img: resize_images(img, 1/2, 1/2, \n",
    "#                                            data_format=\"channels_last\", interpolation='bilinear')))\n",
    "model.add(Lambda(lambda x: tf.cast(x, tf.float32) / 255.0))\n",
    "model.add(layers.Conv2D(3, (1, 1), 1,\n",
    "                        padding=\"valid\"))\n",
    "\n",
    "# first convolution layer\n",
    "model.add(layers.Conv2D(24, (5, 5), 1,\n",
    "                        padding=\"valid\"))  # filter num, kernel size, stride, padding\n",
    "model.add(layers.BatchNormalization(axis=-1))\n",
    "model.add(layers.Activation(\"relu\"))\n",
    "# model.add(layers.MaxPooling2D(pool_size=(2, 2), padding=\"valid\"))\n",
    "# second convolution layer, kernel_regularizer=regularizers.l2(0.1)\n",
    "model.add(layers.Conv2D(36, (5, 5), 1,\n",
    "                        padding=\"valid\"))\n",
    "model.add(layers.BatchNormalization(axis=-1))\n",
    "model.add(layers.Activation(\"relu\"))\n",
    "# third conv layer\n",
    "model.add(layers.Conv2D(48, (3, 3), 1,\n",
    "                        padding=\"valid\"))\n",
    "model.add(layers.BatchNormalization(axis=-1))\n",
    "model.add(layers.Activation(\"relu\"))\n",
    "# forth conv layer\n",
    "model.add(layers.Conv2D(64, (3, 3), 1,\n",
    "                        padding=\"valid\"))\n",
    "model.add(layers.BatchNormalization(axis=-1))\n",
    "model.add(layers.Activation(\"relu\"))\n",
    "model.add(layers.MaxPooling2D(pool_size=(2, 2), padding=\"valid\"))\n",
    "model.add(layers.Flatten())\n",
    "# first fully connected layer\n",
    "model.add(layers.Dense(120))\n",
    "model.add(layers.BatchNormalization())\n",
    "model.add(layers.Activation(\"relu\"))\n",
    "model.add(layers.Dropout(0.5))\n",
    "# second fully connected layer\n",
    "model.add(layers.Dense(84))\n",
    "model.add(layers.BatchNormalization())\n",
    "model.add(layers.Activation(\"relu\"))\n",
    "model.add(layers.Dropout(0.5))\n",
    "# third fully connected layer\n",
    "model.add(layers.Dense(10))\n",
    "model.add(layers.BatchNormalization())\n",
    "model.add(layers.Dropout(0.5))\n",
    "# output layer\n",
    "model.add(layers.Dense(1))\n",
    "# model.add(layers.Activation(\"softmax\"))"
   ]
  },
  {
   "cell_type": "code",
   "execution_count": 23,
   "metadata": {},
   "outputs": [
    {
     "name": "stdout",
     "output_type": "stream",
     "text": [
      "Model: \"sequential\"\n",
      "_________________________________________________________________\n",
      "Layer (type)                 Output Shape              Param #   \n",
      "=================================================================\n",
      "cropping2d (Cropping2D)      (None, 45, 160, 3)        0         \n",
      "_________________________________________________________________\n",
      "lambda (Lambda)              (None, 45, 160, 3)        0         \n",
      "_________________________________________________________________\n",
      "conv2d (Conv2D)              (None, 45, 160, 3)        12        \n",
      "_________________________________________________________________\n",
      "conv2d_1 (Conv2D)            (None, 41, 156, 24)       1824      \n",
      "_________________________________________________________________\n",
      "batch_normalization (BatchNo (None, 41, 156, 24)       96        \n",
      "_________________________________________________________________\n",
      "activation (Activation)      (None, 41, 156, 24)       0         \n",
      "_________________________________________________________________\n",
      "conv2d_2 (Conv2D)            (None, 37, 152, 36)       21636     \n",
      "_________________________________________________________________\n",
      "batch_normalization_1 (Batch (None, 37, 152, 36)       144       \n",
      "_________________________________________________________________\n",
      "activation_1 (Activation)    (None, 37, 152, 36)       0         \n",
      "_________________________________________________________________\n",
      "conv2d_3 (Conv2D)            (None, 35, 150, 48)       15600     \n",
      "_________________________________________________________________\n",
      "batch_normalization_2 (Batch (None, 35, 150, 48)       192       \n",
      "_________________________________________________________________\n",
      "activation_2 (Activation)    (None, 35, 150, 48)       0         \n",
      "_________________________________________________________________\n",
      "conv2d_4 (Conv2D)            (None, 33, 148, 64)       27712     \n",
      "_________________________________________________________________\n",
      "batch_normalization_3 (Batch (None, 33, 148, 64)       256       \n",
      "_________________________________________________________________\n",
      "activation_3 (Activation)    (None, 33, 148, 64)       0         \n",
      "_________________________________________________________________\n",
      "max_pooling2d (MaxPooling2D) (None, 16, 74, 64)        0         \n",
      "_________________________________________________________________\n",
      "flatten (Flatten)            (None, 75776)             0         \n",
      "_________________________________________________________________\n",
      "dense (Dense)                (None, 120)               9093240   \n",
      "_________________________________________________________________\n",
      "batch_normalization_4 (Batch (None, 120)               480       \n",
      "_________________________________________________________________\n",
      "activation_4 (Activation)    (None, 120)               0         \n",
      "_________________________________________________________________\n",
      "dropout (Dropout)            (None, 120)               0         \n",
      "_________________________________________________________________\n",
      "dense_1 (Dense)              (None, 84)                10164     \n",
      "_________________________________________________________________\n",
      "batch_normalization_5 (Batch (None, 84)                336       \n",
      "_________________________________________________________________\n",
      "activation_5 (Activation)    (None, 84)                0         \n",
      "_________________________________________________________________\n",
      "dropout_1 (Dropout)          (None, 84)                0         \n",
      "_________________________________________________________________\n",
      "dense_2 (Dense)              (None, 10)                850       \n",
      "_________________________________________________________________\n",
      "batch_normalization_6 (Batch (None, 10)                40        \n",
      "_________________________________________________________________\n",
      "dropout_2 (Dropout)          (None, 10)                0         \n",
      "_________________________________________________________________\n",
      "dense_3 (Dense)              (None, 1)                 11        \n",
      "=================================================================\n",
      "Total params: 9,172,593\n",
      "Trainable params: 9,171,821\n",
      "Non-trainable params: 772\n",
      "_________________________________________________________________\n"
     ]
    }
   ],
   "source": [
    "model.summary()"
   ]
  },
  {
   "cell_type": "code",
   "execution_count": 10,
   "metadata": {},
   "outputs": [],
   "source": [
    "\n",
    "# Nvidia net without batch normalization\n",
    "model_name = \"nvidia_one\" \n",
    "model = Sequential()\n",
    "input_shape = (80, 160, 3)\n",
    "model.add(Cropping2D(cropping=((25,10), (0,0)), input_shape=input_shape))\n",
    "# model.add(Lambda(lambda img: resize_images(img, 2, 2, data_format=\"channels_first\")))\n",
    "# model.add(Lambda(lambda img: resize_images(img, 1/2, 1/2, \n",
    "#                                            data_format=\"channels_last\", interpolation='bilinear')))\n",
    "model.add(Lambda(lambda x: tf.cast(x, tf.float32) / 255.0 - 0.5))\n",
    "# model.add(layers.Conv2D(3, (1, 1), 1,\n",
    "#                         padding=\"valid\"))\n",
    "\n",
    "# first convolution layer\n",
    "model.add(layers.Conv2D(24, (5, 5), 1,\n",
    "                        padding=\"valid\"))  # filter num, kernel size, stride, padding\n",
    "model.add(layers.BatchNormalization())\n",
    "model.add(layers.Activation(\"relu\"))\n",
    "# model.add(layers.MaxPooling2D(pool_size=(2, 2), padding=\"valid\"))\n",
    "# second convolution layer, kernel_regularizer=regularizers.l2(0.1)\n",
    "model.add(layers.Conv2D(36, (5, 5), 2,\n",
    "                        padding=\"valid\"))\n",
    "model.add(layers.BatchNormalization())\n",
    "model.add(layers.Activation(\"relu\"))\n",
    "# third conv layer\n",
    "model.add(layers.Conv2D(48, (3, 3), 2,\n",
    "                        padding=\"valid\"))\n",
    "model.add(layers.BatchNormalization())\n",
    "model.add(layers.Activation(\"relu\"))\n",
    "# forth conv layer\n",
    "model.add(layers.Conv2D(64, (3, 3), 1,\n",
    "                        padding=\"valid\"))\n",
    "model.add(layers.BatchNormalization())\n",
    "model.add(layers.Activation(\"relu\"))\n",
    "# model.add(layers.MaxPooling2D(pool_size=(2, 2), padding=\"valid\"))\n",
    "model.add(layers.Flatten())\n",
    "# first fully connected layer\n",
    "model.add(layers.Dense(120))\n",
    "model.add(layers.BatchNormalization())\n",
    "model.add(layers.Activation(\"relu\"))\n",
    "model.add(layers.Dropout(0.5))\n",
    "# second fully connected layer\n",
    "model.add(layers.Dense(84))\n",
    "model.add(layers.BatchNormalization())\n",
    "model.add(layers.Activation(\"relu\"))\n",
    "model.add(layers.Dropout(0.5))\n",
    "# third fully connected layer\n",
    "model.add(layers.Dense(10))\n",
    "model.add(layers.BatchNormalization())\n",
    "model.add(layers.Dropout(0.5))\n",
    "# output layer\n",
    "model.add(layers.Dense(1))\n",
    "# model.add(layers.Activation(\"softmax\"))"
   ]
  },
  {
   "cell_type": "code",
   "execution_count": 5,
   "metadata": {
    "scrolled": false
   },
   "outputs": [
    {
     "name": "stdout",
     "output_type": "stream",
     "text": [
      "Model: \"sequential_1\"\n",
      "_________________________________________________________________\n",
      "Layer (type)                 Output Shape              Param #   \n",
      "=================================================================\n",
      "cropping2d_1 (Cropping2D)    (None, 45, 160, 3)        0         \n",
      "_________________________________________________________________\n",
      "lambda_1 (Lambda)            (None, 45, 160, 3)        0         \n",
      "_________________________________________________________________\n",
      "conv2d_4 (Conv2D)            (None, 41, 156, 24)       1824      \n",
      "_________________________________________________________________\n",
      "batch_normalization_7 (Batch (None, 41, 156, 24)       96        \n",
      "_________________________________________________________________\n",
      "activation_6 (Activation)    (None, 41, 156, 24)       0         \n",
      "_________________________________________________________________\n",
      "conv2d_5 (Conv2D)            (None, 19, 76, 36)        21636     \n",
      "_________________________________________________________________\n",
      "batch_normalization_8 (Batch (None, 19, 76, 36)        144       \n",
      "_________________________________________________________________\n",
      "activation_7 (Activation)    (None, 19, 76, 36)        0         \n",
      "_________________________________________________________________\n",
      "conv2d_6 (Conv2D)            (None, 9, 37, 48)         15600     \n",
      "_________________________________________________________________\n",
      "batch_normalization_9 (Batch (None, 9, 37, 48)         192       \n",
      "_________________________________________________________________\n",
      "activation_8 (Activation)    (None, 9, 37, 48)         0         \n",
      "_________________________________________________________________\n",
      "conv2d_7 (Conv2D)            (None, 7, 35, 64)         27712     \n",
      "_________________________________________________________________\n",
      "batch_normalization_10 (Batc (None, 7, 35, 64)         256       \n",
      "_________________________________________________________________\n",
      "activation_9 (Activation)    (None, 7, 35, 64)         0         \n",
      "_________________________________________________________________\n",
      "flatten_1 (Flatten)          (None, 15680)             0         \n",
      "_________________________________________________________________\n",
      "dense_4 (Dense)              (None, 120)               1881720   \n",
      "_________________________________________________________________\n",
      "batch_normalization_11 (Batc (None, 120)               480       \n",
      "_________________________________________________________________\n",
      "activation_10 (Activation)   (None, 120)               0         \n",
      "_________________________________________________________________\n",
      "dropout_3 (Dropout)          (None, 120)               0         \n",
      "_________________________________________________________________\n",
      "dense_5 (Dense)              (None, 84)                10164     \n",
      "_________________________________________________________________\n",
      "batch_normalization_12 (Batc (None, 84)                336       \n",
      "_________________________________________________________________\n",
      "activation_11 (Activation)   (None, 84)                0         \n",
      "_________________________________________________________________\n",
      "dropout_4 (Dropout)          (None, 84)                0         \n",
      "_________________________________________________________________\n",
      "dense_6 (Dense)              (None, 10)                850       \n",
      "_________________________________________________________________\n",
      "batch_normalization_13 (Batc (None, 10)                40        \n",
      "_________________________________________________________________\n",
      "dropout_5 (Dropout)          (None, 10)                0         \n",
      "_________________________________________________________________\n",
      "dense_7 (Dense)              (None, 1)                 11        \n",
      "=================================================================\n",
      "Total params: 1,961,061\n",
      "Trainable params: 1,960,289\n",
      "Non-trainable params: 772\n",
      "_________________________________________________________________\n"
     ]
    }
   ],
   "source": [
    "model.summary()"
   ]
  },
  {
   "cell_type": "code",
   "execution_count": null,
   "metadata": {
    "scrolled": false
   },
   "outputs": [
    {
     "name": "stdout",
     "output_type": "stream",
     "text": [
      "Found 29548 validated image filenames.\n",
      "Found 7387 validated image filenames.\n",
      "Epoch 1/20\n",
      "294/295 [============================>.] - ETA: 0s - loss: 0.7854 - mse: 0.7861\n",
      "Epoch 00001: val_mse improved from inf to 0.03063, saving model to nvidia_one_bw.h5\n",
      "295/295 [==============================] - 104s 354ms/step - loss: 0.7837 - mse: 0.7844 - val_loss: 0.0306 - val_mse: 0.0306\n",
      "Epoch 2/20\n",
      "294/295 [============================>.] - ETA: 0s - loss: 0.1587 - mse: 0.1587\n",
      "Epoch 00002: val_mse improved from 0.03063 to 0.02618, saving model to nvidia_one_bw.h5\n",
      "295/295 [==============================] - 99s 335ms/step - loss: 0.1586 - mse: 0.1586 - val_loss: 0.0262 - val_mse: 0.0262\n",
      "Epoch 3/20\n",
      "294/295 [============================>.] - ETA: 0s - loss: 0.0933 - mse: 0.0933\n",
      "Epoch 00003: val_mse improved from 0.02618 to 0.02383, saving model to nvidia_one_bw.h5\n",
      "295/295 [==============================] - 96s 325ms/step - loss: 0.0931 - mse: 0.0932 - val_loss: 0.0238 - val_mse: 0.0238\n",
      "Epoch 4/20\n",
      "294/295 [============================>.] - ETA: 0s - loss: 0.0784 - mse: 0.0784\n",
      "Epoch 00004: val_mse improved from 0.02383 to 0.02135, saving model to nvidia_one_bw.h5\n",
      "295/295 [==============================] - 93s 316ms/step - loss: 0.0784 - mse: 0.0784 - val_loss: 0.0214 - val_mse: 0.0214\n",
      "Epoch 5/20\n",
      "294/295 [============================>.] - ETA: 0s - loss: 0.0719 - mse: 0.0719\n",
      "Epoch 00005: val_mse improved from 0.02135 to 0.02117, saving model to nvidia_one_bw.h5\n",
      "295/295 [==============================] - 91s 308ms/step - loss: 0.0720 - mse: 0.0719 - val_loss: 0.0212 - val_mse: 0.0212\n",
      "Epoch 6/20\n",
      "294/295 [============================>.] - ETA: 0s - loss: 0.0650 - mse: 0.0650\n",
      "Epoch 00006: val_mse did not improve from 0.02117\n",
      "295/295 [==============================] - 91s 308ms/step - loss: 0.0650 - mse: 0.0651 - val_loss: 0.0213 - val_mse: 0.0213\n",
      "Epoch 7/20\n",
      "294/295 [============================>.] - ETA: 0s - loss: 0.0611 - mse: 0.0611\n",
      "Epoch 00007: val_mse improved from 0.02117 to 0.01927, saving model to nvidia_one_bw.h5\n",
      "295/295 [==============================] - 91s 308ms/step - loss: 0.0611 - mse: 0.0610 - val_loss: 0.0193 - val_mse: 0.0193\n",
      "Epoch 8/20\n",
      "294/295 [============================>.] - ETA: 0s - loss: 0.0572 - mse: 0.0572\n",
      "Epoch 00008: val_mse did not improve from 0.01927\n",
      "295/295 [==============================] - 91s 309ms/step - loss: 0.0572 - mse: 0.0572 - val_loss: 0.0196 - val_mse: 0.0196\n",
      "Epoch 9/20\n",
      "294/295 [============================>.] - ETA: 0s - loss: 0.0541 - mse: 0.0541\n",
      "Epoch 00009: val_mse improved from 0.01927 to 0.01852, saving model to nvidia_one_bw.h5\n",
      "295/295 [==============================] - 91s 309ms/step - loss: 0.0541 - mse: 0.0541 - val_loss: 0.0185 - val_mse: 0.0185\n",
      "Epoch 10/20\n",
      "294/295 [============================>.] - ETA: 0s - loss: 0.0510 - mse: 0.0509\n",
      "Epoch 00010: val_mse did not improve from 0.01852\n",
      "295/295 [==============================] - 91s 308ms/step - loss: 0.0510 - mse: 0.0509 - val_loss: 0.0217 - val_mse: 0.0217\n",
      "Epoch 11/20\n",
      "294/295 [============================>.] - ETA: 0s - loss: 0.0483 - mse: 0.0483\n",
      "Epoch 00011: val_mse did not improve from 0.01852\n",
      "295/295 [==============================] - 93s 314ms/step - loss: 0.0483 - mse: 0.0484 - val_loss: 0.0217 - val_mse: 0.0217\n",
      "Epoch 12/20\n",
      "294/295 [============================>.] - ETA: 0s - loss: 0.0474 - mse: 0.0474\n",
      "Epoch 00012: val_mse did not improve from 0.01852\n",
      "295/295 [==============================] - 91s 309ms/step - loss: 0.0474 - mse: 0.0474 - val_loss: 0.0195 - val_mse: 0.0195\n",
      "Epoch 13/20\n",
      "294/295 [============================>.] - ETA: 0s - loss: 0.0455 - mse: 0.0455"
     ]
    }
   ],
   "source": [
    "BS = 100\n",
    "target_size = (80, 160)\n",
    "# directory = os.path.join(data_path,\"IMG\")\n",
    "directory = data_path\n",
    "dataframe = norm_df\n",
    "datagen=ImageDataGenerator(validation_split=0.2)\n",
    "train_generator=datagen.flow_from_dataframe(dataframe=dataframe,\n",
    "                                            directory=directory,\n",
    "                                            x_col=\"image\",\n",
    "                                            y_col=\"measure\",\n",
    "                                            subset=\"training\",\n",
    "                                            batch_size=BS,\n",
    "                                            seed=42,\n",
    "                                            shuffle=True,\n",
    "                                            class_mode=\"raw\",\n",
    "                                            target_size=target_size)\n",
    "\n",
    "valid_generator=datagen.flow_from_dataframe(dataframe=dataframe,\n",
    "                                            directory=directory,\n",
    "                                            x_col=\"image\",\n",
    "                                            y_col=\"measure\",\n",
    "                                            subset=\"validation\",\n",
    "                                            batch_size=BS,\n",
    "                                            seed=42,\n",
    "                                            shuffle=True,\n",
    "                                            class_mode=\"raw\",\n",
    "                                            target_size=target_size)\n",
    "\n",
    "from tensorflow.keras.optimizers import Adam\n",
    "from tensorflow.keras.callbacks import ModelCheckpoint\n",
    "\n",
    "NUM_EPOCHS = 20\n",
    "INIT_LR = 2*1e-3\n",
    "        \n",
    "opt = Adam(lr=INIT_LR, decay=INIT_LR / (NUM_EPOCHS * 0.5))\n",
    "model.compile(loss=\"mse\", optimizer=opt, metrics=[\"mse\"])\n",
    "\n",
    "checkpointer = ModelCheckpoint(filepath=f\"{model_name}_bw.h5\", \n",
    "                               monitor = 'val_mse',\n",
    "                               verbose=1, \n",
    "                               save_best_only=True)\n",
    "\n",
    "# H = model.fit_generator(aug.flow(X_train, y_train, batch_size=BS),\n",
    "#                         validation_data=(X_valid, y_valid),\n",
    "#                         steps_per_epoch=X_train.shape[0] // BS,\n",
    "#                         epochs=NUM_EPOCHS,\n",
    "#                         callbacks=[checkpointer],\n",
    "#                         class_weight=classWeight,\n",
    "#                         verbose=1)\n",
    "# H = model.fit(X_train, y_train, validation_split=0.2,\n",
    "#           shuffle=True, epochs=NUM_EPOCHS, batch_size=BS,\n",
    "#           callbacks=[checkpointer], verbose=1)\n",
    "\n",
    "STEP_SIZE_TRAIN=train_generator.n//train_generator.batch_size\n",
    "STEP_SIZE_VALID=valid_generator.n//valid_generator.batch_size\n",
    "\n",
    "H = model.fit_generator(generator=train_generator,\n",
    "                    steps_per_epoch=STEP_SIZE_TRAIN,\n",
    "                    validation_data=valid_generator,\n",
    "                    validation_steps=STEP_SIZE_VALID,\n",
    "                    epochs=NUM_EPOCHS,\n",
    "                    callbacks=[checkpointer]\n",
    ")\n",
    "\n",
    "model.save(f'{model_name}.h5')"
   ]
  },
  {
   "cell_type": "code",
   "execution_count": 16,
   "metadata": {},
   "outputs": [
    {
     "ename": "TypeError",
     "evalue": "Variable is unhashable if Tensor equality is enabled. Instead, use tensor.experimental_ref() as the key.",
     "output_type": "error",
     "traceback": [
      "\u001b[0;31m---------------------------------------------------------------------------\u001b[0m",
      "\u001b[0;31mTypeError\u001b[0m                                 Traceback (most recent call last)",
      "\u001b[0;32m<ipython-input-16-f007260d7849>\u001b[0m in \u001b[0;36m<module>\u001b[0;34m\u001b[0m\n\u001b[1;32m     29\u001b[0m     \u001b[0;32mreturn\u001b[0m \u001b[0mgbytes\u001b[0m\u001b[0;34m\u001b[0m\u001b[0;34m\u001b[0m\u001b[0m\n\u001b[1;32m     30\u001b[0m \u001b[0;34m\u001b[0m\u001b[0m\n\u001b[0;32m---> 31\u001b[0;31m \u001b[0mget_model_memory_usage\u001b[0m\u001b[0;34m(\u001b[0m\u001b[0mBS\u001b[0m\u001b[0;34m,\u001b[0m \u001b[0mmodel\u001b[0m\u001b[0;34m)\u001b[0m\u001b[0;34m\u001b[0m\u001b[0;34m\u001b[0m\u001b[0m\n\u001b[0m",
      "\u001b[0;32m<ipython-input-16-f007260d7849>\u001b[0m in \u001b[0;36mget_model_memory_usage\u001b[0;34m(batch_size, model)\u001b[0m\n\u001b[1;32m     16\u001b[0m         \u001b[0mshapes_mem_count\u001b[0m \u001b[0;34m+=\u001b[0m \u001b[0msingle_layer_mem\u001b[0m\u001b[0;34m\u001b[0m\u001b[0;34m\u001b[0m\u001b[0m\n\u001b[1;32m     17\u001b[0m \u001b[0;34m\u001b[0m\u001b[0m\n\u001b[0;32m---> 18\u001b[0;31m     \u001b[0mtrainable_count\u001b[0m \u001b[0;34m=\u001b[0m \u001b[0mnp\u001b[0m\u001b[0;34m.\u001b[0m\u001b[0msum\u001b[0m\u001b[0;34m(\u001b[0m\u001b[0;34m[\u001b[0m\u001b[0mK\u001b[0m\u001b[0;34m.\u001b[0m\u001b[0mcount_params\u001b[0m\u001b[0;34m(\u001b[0m\u001b[0mp\u001b[0m\u001b[0;34m)\u001b[0m \u001b[0;32mfor\u001b[0m \u001b[0mp\u001b[0m \u001b[0;32min\u001b[0m \u001b[0mset\u001b[0m\u001b[0;34m(\u001b[0m\u001b[0mmodel\u001b[0m\u001b[0;34m.\u001b[0m\u001b[0mtrainable_weights\u001b[0m\u001b[0;34m)\u001b[0m\u001b[0;34m]\u001b[0m\u001b[0;34m)\u001b[0m\u001b[0;34m\u001b[0m\u001b[0;34m\u001b[0m\u001b[0m\n\u001b[0m\u001b[1;32m     19\u001b[0m     \u001b[0mnon_trainable_count\u001b[0m \u001b[0;34m=\u001b[0m \u001b[0mnp\u001b[0m\u001b[0;34m.\u001b[0m\u001b[0msum\u001b[0m\u001b[0;34m(\u001b[0m\u001b[0;34m[\u001b[0m\u001b[0mK\u001b[0m\u001b[0;34m.\u001b[0m\u001b[0mcount_params\u001b[0m\u001b[0;34m(\u001b[0m\u001b[0mp\u001b[0m\u001b[0;34m)\u001b[0m \u001b[0;32mfor\u001b[0m \u001b[0mp\u001b[0m \u001b[0;32min\u001b[0m \u001b[0mset\u001b[0m\u001b[0;34m(\u001b[0m\u001b[0mmodel\u001b[0m\u001b[0;34m.\u001b[0m\u001b[0mnon_trainable_weights\u001b[0m\u001b[0;34m)\u001b[0m\u001b[0;34m]\u001b[0m\u001b[0;34m)\u001b[0m\u001b[0;34m\u001b[0m\u001b[0;34m\u001b[0m\u001b[0m\n\u001b[1;32m     20\u001b[0m \u001b[0;34m\u001b[0m\u001b[0m\n",
      "\u001b[0;32m~/anaconda3/envs/IntroToTensorFlow/lib/python3.7/site-packages/tensorflow_core/python/ops/variables.py\u001b[0m in \u001b[0;36m__hash__\u001b[0;34m(self)\u001b[0m\n\u001b[1;32m   1084\u001b[0m   \u001b[0;32mdef\u001b[0m \u001b[0m__hash__\u001b[0m\u001b[0;34m(\u001b[0m\u001b[0mself\u001b[0m\u001b[0;34m)\u001b[0m\u001b[0;34m:\u001b[0m\u001b[0;34m\u001b[0m\u001b[0;34m\u001b[0m\u001b[0m\n\u001b[1;32m   1085\u001b[0m     \u001b[0;32mif\u001b[0m \u001b[0mops\u001b[0m\u001b[0;34m.\u001b[0m\u001b[0mTensor\u001b[0m\u001b[0;34m.\u001b[0m\u001b[0m_USE_EQUALITY\u001b[0m \u001b[0;32mand\u001b[0m \u001b[0mops\u001b[0m\u001b[0;34m.\u001b[0m\u001b[0mexecuting_eagerly_outside_functions\u001b[0m\u001b[0;34m(\u001b[0m\u001b[0;34m)\u001b[0m\u001b[0;34m:\u001b[0m  \u001b[0;31m# pylint: disable=protected-access\u001b[0m\u001b[0;34m\u001b[0m\u001b[0;34m\u001b[0m\u001b[0m\n\u001b[0;32m-> 1086\u001b[0;31m       raise TypeError(\"Variable is unhashable if Tensor equality is enabled. \"\n\u001b[0m\u001b[1;32m   1087\u001b[0m                       \"Instead, use tensor.experimental_ref() as the key.\")\n\u001b[1;32m   1088\u001b[0m     \u001b[0;32melse\u001b[0m\u001b[0;34m:\u001b[0m\u001b[0;34m\u001b[0m\u001b[0;34m\u001b[0m\u001b[0m\n",
      "\u001b[0;31mTypeError\u001b[0m: Variable is unhashable if Tensor equality is enabled. Instead, use tensor.experimental_ref() as the key."
     ]
    }
   ],
   "source": [
    "def get_model_memory_usage(batch_size, model):\n",
    "    import numpy as np\n",
    "    from tensorflow.keras import backend as K\n",
    "\n",
    "    shapes_mem_count = 0\n",
    "    internal_model_mem_count = 0\n",
    "    for l in model.layers:\n",
    "        layer_type = l.__class__.__name__\n",
    "        if layer_type == 'Model':\n",
    "            internal_model_mem_count += get_model_memory_usage(batch_size, l)\n",
    "        single_layer_mem = 1\n",
    "        for s in l.output_shape:\n",
    "            if s is None:\n",
    "                continue\n",
    "            single_layer_mem *= s\n",
    "        shapes_mem_count += single_layer_mem\n",
    "\n",
    "    trainable_count = np.sum([K.count_params(p) for p in set(model.trainable_weights)])\n",
    "    non_trainable_count = np.sum([K.count_params(p) for p in set(model.non_trainable_weights)])\n",
    "\n",
    "    number_size = 4.0\n",
    "    if K.floatx() == 'float16':\n",
    "         number_size = 2.0\n",
    "    if K.floatx() == 'float64':\n",
    "         number_size = 8.0\n",
    "\n",
    "    total_memory = number_size*(batch_size*shapes_mem_count + trainable_count + non_trainable_count)\n",
    "    gbytes = np.round(total_memory / (1024.0 ** 3), 3) + internal_model_mem_count\n",
    "    return gbytes\n",
    "\n",
    "get_model_memory_usage(BS, model)"
   ]
  },
  {
   "cell_type": "code",
   "execution_count": 25,
   "metadata": {},
   "outputs": [
    {
     "data": {
      "image/png": "[encoded data removed]",
      "text/plain": [
       "<Figure size 1440x720 with 1 Axes>"
      ]
     },
     "metadata": {},
     "output_type": "display_data"
    }
   ],
   "source": [
    "# plot the training loss and accuracy\n",
    "import matplotlib.pyplot as plt\n",
    "N = np.arange(0, NUM_EPOCHS)\n",
    "plt.style.use(\"ggplot\")\n",
    "plt.figure(figsize=(20,10))\n",
    "plt.plot(N, H.history[\"loss\"], label=\"train_loss\")\n",
    "plt.plot(N, H.history[\"val_loss\"], label=\"val_loss\")\n",
    "plt.plot(N, H.history[\"mse\"], label=\"train_mse\")\n",
    "plt.plot(N, H.history[\"val_mse\"], label=\"val_mse\")\n",
    "plt.title(\"Training Loss and MSE on Dataset\")\n",
    "plt.xlabel(\"Epoch #\")\n",
    "plt.ylabel(\"Loss/MSE\")\n",
    "plt.legend(loc=\"lower left\")\n",
    "plt.savefig(f\"{model_name}.png\")"
   ]
  },
  {
   "cell_type": "code",
   "execution_count": 5,
   "metadata": {},
   "outputs": [],
   "source": [
    "# dinamicatly allocate GPU memory if needed\n",
    "from tensorflow.compat.v1 import ConfigProto\n",
    "from tensorflow.compat.v1 import InteractiveSession\n",
    "\n",
    "config = ConfigProto()\n",
    "config.gpu_options.per_process_gpu_memory_fraction = 0.2\n",
    "config.gpu_options.allow_growth = True\n",
    "session = InteractiveSession(config=config)"
   ]
  }
 ],
 "metadata": {
  "kernelspec": {
   "display_name": "Python 3",
   "language": "python",
   "name": "python3"
  },
  "language_info": {
   "codemirror_mode": {
    "name": "ipython",
    "version": 3
   },
   "file_extension": ".py",
   "mimetype": "text/x-python",
   "name": "python",
   "nbconvert_exporter": "python",
   "pygments_lexer": "ipython3",
   "version": "3.7.4"
  }
 },
 "nbformat": 4,
 "nbformat_minor": 2
}
